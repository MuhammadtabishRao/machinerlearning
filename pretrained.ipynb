{
 "cells": [
  {
   "cell_type": "code",
   "execution_count": 1,
   "metadata": {},
   "outputs": [],
   "source": [
    "from tensorflow.keras.applications import VGG16"
   ]
  },
  {
   "cell_type": "code",
   "execution_count": 2,
   "metadata": {},
   "outputs": [
    {
     "name": "stdout",
     "output_type": "stream",
     "text": [
      "Downloading data from https://storage.googleapis.com/tensorflow/keras-applications/vgg16/vgg16_weights_tf_dim_ordering_tf_kernels_notop.h5\n",
      "58892288/58889256 [==============================] - 6s 0us/step\n"
     ]
    }
   ],
   "source": [
    "conv_base = VGG16(weights='imagenet',\n",
    "include_top=False,\n",
    "input_shape=(150, 150, 3))"
   ]
  },
  {
   "cell_type": "code",
   "execution_count": 3,
   "metadata": {},
   "outputs": [
    {
     "name": "stdout",
     "output_type": "stream",
     "text": [
      "Model: \"vgg16\"\n",
      "_________________________________________________________________\n",
      "Layer (type)                 Output Shape              Param #   \n",
      "=================================================================\n",
      "input_1 (InputLayer)         [(None, 150, 150, 3)]     0         \n",
      "_________________________________________________________________\n",
      "block1_conv1 (Conv2D)        (None, 150, 150, 64)      1792      \n",
      "_________________________________________________________________\n",
      "block1_conv2 (Conv2D)        (None, 150, 150, 64)      36928     \n",
      "_________________________________________________________________\n",
      "block1_pool (MaxPooling2D)   (None, 75, 75, 64)        0         \n",
      "_________________________________________________________________\n",
      "block2_conv1 (Conv2D)        (None, 75, 75, 128)       73856     \n",
      "_________________________________________________________________\n",
      "block2_conv2 (Conv2D)        (None, 75, 75, 128)       147584    \n",
      "_________________________________________________________________\n",
      "block2_pool (MaxPooling2D)   (None, 37, 37, 128)       0         \n",
      "_________________________________________________________________\n",
      "block3_conv1 (Conv2D)        (None, 37, 37, 256)       295168    \n",
      "_________________________________________________________________\n",
      "block3_conv2 (Conv2D)        (None, 37, 37, 256)       590080    \n",
      "_________________________________________________________________\n",
      "block3_conv3 (Conv2D)        (None, 37, 37, 256)       590080    \n",
      "_________________________________________________________________\n",
      "block3_pool (MaxPooling2D)   (None, 18, 18, 256)       0         \n",
      "_________________________________________________________________\n",
      "block4_conv1 (Conv2D)        (None, 18, 18, 512)       1180160   \n",
      "_________________________________________________________________\n",
      "block4_conv2 (Conv2D)        (None, 18, 18, 512)       2359808   \n",
      "_________________________________________________________________\n",
      "block4_conv3 (Conv2D)        (None, 18, 18, 512)       2359808   \n",
      "_________________________________________________________________\n",
      "block4_pool (MaxPooling2D)   (None, 9, 9, 512)         0         \n",
      "_________________________________________________________________\n",
      "block5_conv1 (Conv2D)        (None, 9, 9, 512)         2359808   \n",
      "_________________________________________________________________\n",
      "block5_conv2 (Conv2D)        (None, 9, 9, 512)         2359808   \n",
      "_________________________________________________________________\n",
      "block5_conv3 (Conv2D)        (None, 9, 9, 512)         2359808   \n",
      "_________________________________________________________________\n",
      "block5_pool (MaxPooling2D)   (None, 4, 4, 512)         0         \n",
      "=================================================================\n",
      "Total params: 14,714,688\n",
      "Trainable params: 14,714,688\n",
      "Non-trainable params: 0\n",
      "_________________________________________________________________\n"
     ]
    }
   ],
   "source": [
    "conv_base.summary()"
   ]
  },
  {
   "cell_type": "code",
   "execution_count": 12,
   "metadata": {},
   "outputs": [],
   "source": []
  },
  {
   "cell_type": "code",
   "execution_count": 5,
   "metadata": {},
   "outputs": [],
   "source": []
  },
  {
   "cell_type": "code",
   "execution_count": 6,
   "metadata": {},
   "outputs": [],
   "source": []
  },
  {
   "cell_type": "markdown",
   "metadata": {},
   "source": [
    "# Extracting features using the pretrained convolutional base"
   ]
  },
  {
   "cell_type": "code",
   "execution_count": 19,
   "metadata": {},
   "outputs": [
    {
     "name": "stdout",
     "output_type": "stream",
     "text": [
      "Found 2000 images belonging to 2 classes.\n",
      "Found 1000 images belonging to 2 classes.\n",
      "Found 1000 images belonging to 2 classes.\n"
     ]
    }
   ],
   "source": [
    "import os\n",
    "import numpy as np\n",
    "from keras.preprocessing.image import ImageDataGenerator\n",
    "\n",
    "base_dir = \"C:/Users/R01-PC13/Downloads/Kaggle_orignal/cat_and_dog_small\"\n",
    "\n",
    "train_dir = os.path.join(base_dir, 'train')\n",
    "validation_dir = os.path.join(base_dir, 'validation')\n",
    "test_dir = os.path.join(base_dir, 'test')\n",
    "\n",
    "datagen = ImageDataGenerator(rescale=1./255)\n",
    "batch_size = 20\n",
    "\n",
    "def extract_features(directory, sample_count):\n",
    "    features = np.zeros(shape=(sample_count, 4, 4, 512))\n",
    "    labels = np.zeros(shape=(sample_count))\n",
    "    generator = datagen.flow_from_directory(\n",
    "                                            directory,\n",
    "                                            target_size=(150, 150),\n",
    "                                            batch_size=batch_size,\n",
    "                                            class_mode='binary')\n",
    "    i=0\n",
    "    for inputs_batch, labels_batch in generator:\n",
    "        features_batch = conv_base.predict(inputs_batch)\n",
    "        features[i * batch_size : (i + 1) * batch_size] = features_batch\n",
    "        labels[i * batch_size : (i + 1) * batch_size] = labels_batch\n",
    "        i += 1\n",
    "        if i * batch_size >= sample_count:\n",
    "            break\n",
    "    return features, labels\n",
    "\n",
    "train_features, train_labels = extract_features(train_dir, 2000)\n",
    "validation_features, validation_labels = extract_features(validation_dir, 1000)\n",
    "test_features, test_labels = extract_features(test_dir, 1000)\n",
    "\n",
    "train_features = np.reshape(train_features, (2000, 4*4* 512))\n",
    "validation_features = np.reshape(validation_features, (1000, 4*4* 512))\n",
    "test_features = np.reshape(test_features, (1000, 4*4* 512))"
   ]
  },
  {
   "cell_type": "markdown",
   "metadata": {},
   "source": [
    "# Defining and training the densely connected classifier"
   ]
  },
  {
   "cell_type": "code",
   "execution_count": 20,
   "metadata": {},
   "outputs": [],
   "source": [
    "from keras import models\n",
    "from keras import layers\n",
    "from keras import optimizers\n",
    "model = models.Sequential()\n",
    "model.add(layers.Dense(256, activation='relu', input_dim=4 * 4 * 512))\n",
    "model.add(layers.Dropout(0.5))\n",
    "model.add(layers.Dense(1, activation='sigmoid'))"
   ]
  },
  {
   "cell_type": "code",
   "execution_count": 21,
   "metadata": {},
   "outputs": [
    {
     "name": "stderr",
     "output_type": "stream",
     "text": [
      "C:\\Users\\R01-PC13\\anaconda3\\lib\\site-packages\\tensorflow\\python\\keras\\optimizer_v2\\optimizer_v2.py:374: UserWarning: The `lr` argument is deprecated, use `learning_rate` instead.\n",
      "  warnings.warn(\n"
     ]
    },
    {
     "name": "stdout",
     "output_type": "stream",
     "text": [
      "Epoch 1/30\n",
      "100/100 [==============================] - 54s 64ms/step - loss: 0.7140 - acc: 0.5882 - val_loss: 0.4524 - val_acc: 0.8260\n",
      "Epoch 2/30\n",
      "100/100 [==============================] - 4s 43ms/step - loss: 0.4766 - acc: 0.7697 - val_loss: 0.3660 - val_acc: 0.8530\n",
      "Epoch 3/30\n",
      "100/100 [==============================] - 3s 34ms/step - loss: 0.3570 - acc: 0.8555 - val_loss: 0.3220 - val_acc: 0.8750\n",
      "Epoch 4/30\n",
      "100/100 [==============================] - 4s 36ms/step - loss: 0.3489 - acc: 0.8478 - val_loss: 0.2964 - val_acc: 0.8860\n",
      "Epoch 5/30\n",
      "100/100 [==============================] - 4s 37ms/step - loss: 0.3056 - acc: 0.8688 - val_loss: 0.2851 - val_acc: 0.8830\n",
      "Epoch 6/30\n",
      "100/100 [==============================] - 4s 45ms/step - loss: 0.2809 - acc: 0.8835 - val_loss: 0.2692 - val_acc: 0.8920\n",
      "Epoch 7/30\n",
      "100/100 [==============================] - 5s 47ms/step - loss: 0.2414 - acc: 0.9061 - val_loss: 0.2622 - val_acc: 0.8930\n",
      "Epoch 8/30\n",
      "100/100 [==============================] - 4s 44ms/step - loss: 0.2380 - acc: 0.9084 - val_loss: 0.2555 - val_acc: 0.8940\n",
      "Epoch 9/30\n",
      "100/100 [==============================] - 4s 43ms/step - loss: 0.2179 - acc: 0.9242 - val_loss: 0.2697 - val_acc: 0.8860\n",
      "Epoch 10/30\n",
      "100/100 [==============================] - 4s 44ms/step - loss: 0.2065 - acc: 0.9264 - val_loss: 0.2486 - val_acc: 0.8920\n",
      "Epoch 11/30\n",
      "100/100 [==============================] - 4s 45ms/step - loss: 0.1836 - acc: 0.9375 - val_loss: 0.2443 - val_acc: 0.9010\n",
      "Epoch 12/30\n",
      "100/100 [==============================] - 4s 44ms/step - loss: 0.1825 - acc: 0.9352 - val_loss: 0.2412 - val_acc: 0.9000\n",
      "Epoch 13/30\n",
      "100/100 [==============================] - 4s 45ms/step - loss: 0.1751 - acc: 0.9443 - val_loss: 0.2385 - val_acc: 0.9000\n",
      "Epoch 14/30\n",
      "100/100 [==============================] - 4s 45ms/step - loss: 0.1654 - acc: 0.9371 - val_loss: 0.2377 - val_acc: 0.9010\n",
      "Epoch 15/30\n",
      "100/100 [==============================] - 4s 45ms/step - loss: 0.1714 - acc: 0.9374 - val_loss: 0.2404 - val_acc: 0.9000\n",
      "Epoch 16/30\n",
      "100/100 [==============================] - 4s 45ms/step - loss: 0.1694 - acc: 0.9436 - val_loss: 0.2362 - val_acc: 0.9000\n",
      "Epoch 17/30\n",
      "100/100 [==============================] - 5s 45ms/step - loss: 0.1394 - acc: 0.9512 - val_loss: 0.2332 - val_acc: 0.9040\n",
      "Epoch 18/30\n",
      "100/100 [==============================] - 5s 45ms/step - loss: 0.1369 - acc: 0.9498 - val_loss: 0.2367 - val_acc: 0.9010\n",
      "Epoch 19/30\n",
      "100/100 [==============================] - 3s 34ms/step - loss: 0.1361 - acc: 0.9563 - val_loss: 0.2374 - val_acc: 0.9000\n",
      "Epoch 20/30\n",
      "100/100 [==============================] - 3s 34ms/step - loss: 0.1260 - acc: 0.9553 - val_loss: 0.2346 - val_acc: 0.9020\n",
      "Epoch 21/30\n",
      "100/100 [==============================] - 4s 35ms/step - loss: 0.1224 - acc: 0.9597 - val_loss: 0.2368 - val_acc: 0.9000\n",
      "Epoch 22/30\n",
      "100/100 [==============================] - 5s 45ms/step - loss: 0.1332 - acc: 0.9580 - val_loss: 0.2342 - val_acc: 0.9020\n",
      "Epoch 23/30\n",
      "100/100 [==============================] - 5s 46ms/step - loss: 0.1026 - acc: 0.9745 - val_loss: 0.2393 - val_acc: 0.9040\n",
      "Epoch 24/30\n",
      "100/100 [==============================] - 5s 46ms/step - loss: 0.0962 - acc: 0.9732 - val_loss: 0.2347 - val_acc: 0.9070\n",
      "Epoch 25/30\n",
      "100/100 [==============================] - 4s 45ms/step - loss: 0.1101 - acc: 0.9581 - val_loss: 0.2376 - val_acc: 0.9030\n",
      "Epoch 26/30\n",
      "100/100 [==============================] - 5s 46ms/step - loss: 0.1009 - acc: 0.9701 - val_loss: 0.2339 - val_acc: 0.9020\n",
      "Epoch 27/30\n",
      "100/100 [==============================] - 4s 44ms/step - loss: 0.0977 - acc: 0.9757 - val_loss: 0.2369 - val_acc: 0.9040\n",
      "Epoch 28/30\n",
      "100/100 [==============================] - 5s 46ms/step - loss: 0.1061 - acc: 0.9659 - val_loss: 0.2378 - val_acc: 0.9000\n",
      "Epoch 29/30\n",
      "100/100 [==============================] - 4s 44ms/step - loss: 0.0917 - acc: 0.9768 - val_loss: 0.2419 - val_acc: 0.9010\n",
      "Epoch 30/30\n",
      "100/100 [==============================] - 5s 46ms/step - loss: 0.0854 - acc: 0.9758 - val_loss: 0.2382 - val_acc: 0.9030\n"
     ]
    }
   ],
   "source": [
    "model.compile(optimizer=optimizers.RMSprop(lr=2e-5),\n",
    "    loss='binary_crossentropy',\n",
    "    metrics=['acc'])\n",
    "history = model.fit(train_features, train_labels,\n",
    "    epochs=30,\n",
    "    batch_size=20,\n",
    "    validation_data=(validation_features, validation_labels))"
   ]
  },
  {
   "cell_type": "code",
   "execution_count": 22,
   "metadata": {},
   "outputs": [
    {
     "data": {
      "image/png": "[encoded data removed]",
      "text/plain": [
       "<Figure size 432x288 with 1 Axes>"
      ]
     },
     "metadata": {
      "needs_background": "light"
     },
     "output_type": "display_data"
    },
    {
     "data": {
      "image/png": "[encoded data removed]",
      "text/plain": [
       "<Figure size 432x288 with 1 Axes>"
      ]
     },
     "metadata": {
      "needs_background": "light"
     },
     "output_type": "display_data"
    }
   ],
   "source": [
    "import matplotlib.pyplot as plt\n",
    "acc = history.history['acc']\n",
    "val_acc = history.history['val_acc']\n",
    "loss = history.history['loss']\n",
    "val_loss = history.history['val_loss']\n",
    "\n",
    "epochs = range(1, len(acc) + 1)\n",
    "\n",
    "plt.plot(epochs, acc, 'bo', label='Training acc')\n",
    "plt.plot(epochs, val_acc, 'b', label='Validation acc')\n",
    "plt.title('Training and validation accuracy')\n",
    "plt.legend()\n",
    "\n",
    "plt.figure()\n",
    "\n",
    "plt.plot(epochs, loss, 'bo', label='Training loss')\n",
    "plt.plot(epochs, val_loss, 'b', label='Validation loss')\n",
    "plt.title('Training and validation loss')\n",
    "plt.legend()\n",
    "\n",
    "plt.show()\n"
   ]
  },
  {
   "cell_type": "code",
   "execution_count": null,
   "metadata": {},
   "outputs": [],
   "source": []
  }
 ],
 "metadata": {
  "kernelspec": {
   "display_name": "Python 3",
   "language": "python",
   "name": "python3"
  },
  "language_info": {
   "codemirror_mode": {
    "name": "ipython",
    "version": 3
   },
   "file_extension": ".py",
   "mimetype": "text/x-python",
   "name": "python",
   "nbconvert_exporter": "python",
   "pygments_lexer": "ipython3",
   "version": "3.8.5"
  }
 },
 "nbformat": 4,
 "nbformat_minor": 4
}
