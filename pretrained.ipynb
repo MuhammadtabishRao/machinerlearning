{
 "cells": [
  {
   "cell_type": "code",
   "execution_count": 1,
   "metadata": {},
   "outputs": [],
   "source": [
    "from tensorflow.keras.applications import VGG16"
   ]
  },
  {
   "cell_type": "code",
   "execution_count": 2,
   "metadata": {},
   "outputs": [],
   "source": [
    "conv_base = VGG16(weights='imagenet',\n",
    "include_top=False,\n",
    "input_shape=(150, 150, 3))"
   ]
  },
  {
   "cell_type": "code",
   "execution_count": 3,
   "metadata": {},
   "outputs": [
    {
     "name": "stdout",
     "output_type": "stream",
     "text": [
      "Model: \"vgg16\"\n",
      "_________________________________________________________________\n",
      "Layer (type)                 Output Shape              Param #   \n",
      "=================================================================\n",
      "input_1 (InputLayer)         [(None, 150, 150, 3)]     0         \n",
      "_________________________________________________________________\n",
      "block1_conv1 (Conv2D)        (None, 150, 150, 64)      1792      \n",
      "_________________________________________________________________\n",
      "block1_conv2 (Conv2D)        (None, 150, 150, 64)      36928     \n",
      "_________________________________________________________________\n",
      "block1_pool (MaxPooling2D)   (None, 75, 75, 64)        0         \n",
      "_________________________________________________________________\n",
      "block2_conv1 (Conv2D)        (None, 75, 75, 128)       73856     \n",
      "_________________________________________________________________\n",
      "block2_conv2 (Conv2D)        (None, 75, 75, 128)       147584    \n",
      "_________________________________________________________________\n",
      "block2_pool (MaxPooling2D)   (None, 37, 37, 128)       0         \n",
      "_________________________________________________________________\n",
      "block3_conv1 (Conv2D)        (None, 37, 37, 256)       295168    \n",
      "_________________________________________________________________\n",
      "block3_conv2 (Conv2D)        (None, 37, 37, 256)       590080    \n",
      "_________________________________________________________________\n",
      "block3_conv3 (Conv2D)        (None, 37, 37, 256)       590080    \n",
      "_________________________________________________________________\n",
      "block3_pool (MaxPooling2D)   (None, 18, 18, 256)       0         \n",
      "_________________________________________________________________\n",
      "block4_conv1 (Conv2D)        (None, 18, 18, 512)       1180160   \n",
      "_________________________________________________________________\n",
      "block4_conv2 (Conv2D)        (None, 18, 18, 512)       2359808   \n",
      "_________________________________________________________________\n",
      "block4_conv3 (Conv2D)        (None, 18, 18, 512)       2359808   \n",
      "_________________________________________________________________\n",
      "block4_pool (MaxPooling2D)   (None, 9, 9, 512)         0         \n",
      "_________________________________________________________________\n",
      "block5_conv1 (Conv2D)        (None, 9, 9, 512)         2359808   \n",
      "_________________________________________________________________\n",
      "block5_conv2 (Conv2D)        (None, 9, 9, 512)         2359808   \n",
      "_________________________________________________________________\n",
      "block5_conv3 (Conv2D)        (None, 9, 9, 512)         2359808   \n",
      "_________________________________________________________________\n",
      "block5_pool (MaxPooling2D)   (None, 4, 4, 512)         0         \n",
      "=================================================================\n",
      "Total params: 14,714,688\n",
      "Trainable params: 14,714,688\n",
      "Non-trainable params: 0\n",
      "_________________________________________________________________\n"
     ]
    }
   ],
   "source": [
    "conv_base.summary()"
   ]
  },
  {
   "cell_type": "code",
   "execution_count": null,
   "metadata": {},
   "outputs": [],
   "source": []
  },
  {
   "cell_type": "code",
   "execution_count": null,
   "metadata": {},
   "outputs": [],
   "source": []
  },
  {
   "cell_type": "code",
   "execution_count": null,
   "metadata": {},
   "outputs": [],
   "source": []
  },
  {
   "cell_type": "markdown",
   "metadata": {},
   "source": [
    "# Extracting features using the pretrained convolutional base"
   ]
  },
  {
   "cell_type": "code",
   "execution_count": 12,
   "metadata": {},
   "outputs": [
    {
     "name": "stdout",
     "output_type": "stream",
     "text": [
      "Found 2000 images belonging to 2 classes.\n",
      "Found 1000 images belonging to 2 classes.\n",
      "Found 1000 images belonging to 2 classes.\n"
     ]
    }
   ],
   "source": [
    "import os\n",
    "import numpy as np\n",
    "from keras.preprocessing.image import ImageDataGenerator\n",
    "\n",
    "base_dir = \"C:/Users/R01-PC13/Downloads/Kaggle_orignal/cat_and_dog_small\"\n",
    "\n",
    "train_dir = os.path.join(base_dir, 'train')\n",
    "validation_dir = os.path.join(base_dir, 'validation')\n",
    "test_dir = os.path.join(base_dir, 'test')\n",
    "\n",
    "datagen = ImageDataGenerator(rescale=1./255)\n",
    "batch_size = 20\n",
    "\n",
    "def extract_features(directory, sample_count):\n",
    "    features = np.zeros(shape=(sample_count, 4, 4, 512))\n",
    "    labels = np.zeros(shape=(sample_count))\n",
    "    generator = datagen.flow_from_directory(\n",
    "                                            directory,\n",
    "                                            target_size=(150, 150),\n",
    "                                            batch_size=batch_size,\n",
    "                                            class_mode='binary')\n",
    "    i=0\n",
    "    for inputs_batch, labels_batch in generator:\n",
    "        features_batch = conv_base.predict(inputs_batch)\n",
    "        features[i * batch_size : (i + 1) * batch_size] = features_batch\n",
    "        labels[i * batch_size : (i + 1) * batch_size] = labels_batch\n",
    "        i += 1\n",
    "        if i * batch_size >= sample_count:\n",
    "            break\n",
    "    return features, labels\n",
    "\n",
    "train_features, train_labels = extract_features(train_dir, 2000)\n",
    "validation_features, validation_labels = extract_features(validation_dir, 1000)\n",
    "test_features, test_labels = extract_features(test_dir, 1000)\n",
    "\n",
    "train_features = np.reshape(train_features, (2000, 4*4* 512))\n",
    "validation_features = np.reshape(validation_features, (1000, 4*4* 512))\n",
    "test_features = np.reshape(test_features, (1000, 4*4* 512))"
   ]
  },
  {
   "cell_type": "markdown",
   "metadata": {},
   "source": [
    "# Defining and training the densely connected classifier"
   ]
  },
  {
   "cell_type": "code",
   "execution_count": 13,
   "metadata": {},
   "outputs": [],
   "source": [
    "from keras import models\n",
    "from keras import layers\n",
    "from keras import optimizers\n",
    "model = models.Sequential()\n",
    "model.add(layers.Dense(256, activation='relu', input_dim=4 * 4 * 512))\n",
    "model.add(layers.Dropout(0.5))\n",
    "model.add(layers.Dense(1, activation='sigmoid'))"
   ]
  },
  {
   "cell_type": "code",
   "execution_count": 14,
   "metadata": {},
   "outputs": [
    {
     "name": "stderr",
     "output_type": "stream",
     "text": [
      "C:\\Users\\R01-PC13\\anaconda3\\lib\\site-packages\\tensorflow\\python\\keras\\optimizer_v2\\optimizer_v2.py:374: UserWarning: The `lr` argument is deprecated, use `learning_rate` instead.\n",
      "  warnings.warn(\n"
     ]
    },
    {
     "name": "stdout",
     "output_type": "stream",
     "text": [
      "Epoch 1/30\n",
      "100/100 [==============================] - 13s 23ms/step - loss: 0.6800 - acc: 0.5962 - val_loss: 0.4355 - val_acc: 0.8470\n",
      "Epoch 2/30\n",
      "100/100 [==============================] - 2s 19ms/step - loss: 0.4435 - acc: 0.8109 - val_loss: 0.3573 - val_acc: 0.8720\n",
      "Epoch 3/30\n",
      "100/100 [==============================] - 2s 20ms/step - loss: 0.3681 - acc: 0.8412 - val_loss: 0.3337 - val_acc: 0.8590\n",
      "Epoch 4/30\n",
      "100/100 [==============================] - 2s 19ms/step - loss: 0.3216 - acc: 0.8662 - val_loss: 0.2965 - val_acc: 0.8860\n",
      "Epoch 5/30\n",
      "100/100 [==============================] - 2s 18ms/step - loss: 0.2921 - acc: 0.8838 - val_loss: 0.2796 - val_acc: 0.8960\n",
      "Epoch 6/30\n",
      "100/100 [==============================] - 2s 19ms/step - loss: 0.2647 - acc: 0.8843 - val_loss: 0.2695 - val_acc: 0.8910\n",
      "Epoch 7/30\n",
      "100/100 [==============================] - 2s 19ms/step - loss: 0.2388 - acc: 0.9083 - val_loss: 0.2605 - val_acc: 0.8970\n",
      "Epoch 8/30\n",
      "100/100 [==============================] - 2s 21ms/step - loss: 0.2469 - acc: 0.9043 - val_loss: 0.2535 - val_acc: 0.8980\n",
      "Epoch 9/30\n",
      "100/100 [==============================] - 2s 21ms/step - loss: 0.2196 - acc: 0.9182 - val_loss: 0.2607 - val_acc: 0.8840\n",
      "Epoch 10/30\n",
      "100/100 [==============================] - 2s 20ms/step - loss: 0.2272 - acc: 0.9150 - val_loss: 0.2446 - val_acc: 0.9000\n",
      "Epoch 11/30\n",
      "100/100 [==============================] - 2s 21ms/step - loss: 0.1981 - acc: 0.9203 - val_loss: 0.2410 - val_acc: 0.9030\n",
      "Epoch 12/30\n",
      "100/100 [==============================] - 2s 21ms/step - loss: 0.1987 - acc: 0.9228 - val_loss: 0.2422 - val_acc: 0.8950\n",
      "Epoch 13/30\n",
      "100/100 [==============================] - 2s 20ms/step - loss: 0.1753 - acc: 0.9400 - val_loss: 0.2356 - val_acc: 0.9060\n",
      "Epoch 14/30\n",
      "100/100 [==============================] - 2s 19ms/step - loss: 0.1679 - acc: 0.9314 - val_loss: 0.2355 - val_acc: 0.9090\n",
      "Epoch 15/30\n",
      "100/100 [==============================] - 2s 20ms/step - loss: 0.1620 - acc: 0.9360 - val_loss: 0.2327 - val_acc: 0.9070\n",
      "Epoch 16/30\n",
      "100/100 [==============================] - 2s 19ms/step - loss: 0.1693 - acc: 0.9403 - val_loss: 0.2402 - val_acc: 0.8960\n",
      "Epoch 17/30\n",
      "100/100 [==============================] - 2s 19ms/step - loss: 0.1412 - acc: 0.9535 - val_loss: 0.2333 - val_acc: 0.9010\n",
      "Epoch 18/30\n",
      "100/100 [==============================] - 2s 19ms/step - loss: 0.1520 - acc: 0.9447 - val_loss: 0.2303 - val_acc: 0.9080\n",
      "Epoch 19/30\n",
      "100/100 [==============================] - 2s 19ms/step - loss: 0.1340 - acc: 0.9530 - val_loss: 0.2295 - val_acc: 0.9070\n",
      "Epoch 20/30\n",
      "100/100 [==============================] - 2s 19ms/step - loss: 0.1296 - acc: 0.9576 - val_loss: 0.2293 - val_acc: 0.9050\n",
      "Epoch 21/30\n",
      "100/100 [==============================] - 2s 19ms/step - loss: 0.1210 - acc: 0.9616 - val_loss: 0.2347 - val_acc: 0.8980\n",
      "Epoch 22/30\n",
      "100/100 [==============================] - 2s 19ms/step - loss: 0.1230 - acc: 0.9617 - val_loss: 0.2298 - val_acc: 0.9040\n",
      "Epoch 23/30\n",
      "100/100 [==============================] - 2s 19ms/step - loss: 0.1089 - acc: 0.9675 - val_loss: 0.2402 - val_acc: 0.8990\n",
      "Epoch 24/30\n",
      "100/100 [==============================] - 2s 19ms/step - loss: 0.1140 - acc: 0.9678 - val_loss: 0.2309 - val_acc: 0.9080\n",
      "Epoch 25/30\n",
      "100/100 [==============================] - 2s 19ms/step - loss: 0.1145 - acc: 0.9677 - val_loss: 0.2308 - val_acc: 0.9060\n",
      "Epoch 26/30\n",
      "100/100 [==============================] - 2s 19ms/step - loss: 0.1077 - acc: 0.9676 - val_loss: 0.2309 - val_acc: 0.9030\n",
      "Epoch 27/30\n",
      "100/100 [==============================] - 2s 20ms/step - loss: 0.0930 - acc: 0.9726 - val_loss: 0.2305 - val_acc: 0.9030\n",
      "Epoch 28/30\n",
      "100/100 [==============================] - 2s 19ms/step - loss: 0.0934 - acc: 0.9695 - val_loss: 0.2466 - val_acc: 0.8980\n",
      "Epoch 29/30\n",
      "100/100 [==============================] - 2s 18ms/step - loss: 0.0813 - acc: 0.9810 - val_loss: 0.2348 - val_acc: 0.9020\n",
      "Epoch 30/30\n",
      "100/100 [==============================] - 2s 20ms/step - loss: 0.0836 - acc: 0.9814 - val_loss: 0.2375 - val_acc: 0.9020\n"
     ]
    }
   ],
   "source": [
    "model.compile(optimizer=optimizers.RMSprop(lr=2e-5),\n",
    "    loss='binary_crossentropy',\n",
    "    metrics=['acc'])\n",
    "history = model.fit(train_features, train_labels,\n",
    "    epochs=30,\n",
    "    batch_size=20,\n",
    "    validation_data=(validation_features, validation_labels))"
   ]
  },
  {
   "cell_type": "code",
   "execution_count": 15,
   "metadata": {},
   "outputs": [
    {
     "data": {
      "image/png": "[encoded data removed]",
      "text/plain": [
       "<Figure size 432x288 with 1 Axes>"
      ]
     },
     "metadata": {
      "needs_background": "light"
     },
     "output_type": "display_data"
    },
    {
     "data": {
      "image/png": "[encoded data removed]",
      "text/plain": [
       "<Figure size 432x288 with 1 Axes>"
      ]
     },
     "metadata": {
      "needs_background": "light"
     },
     "output_type": "display_data"
    }
   ],
   "source": [
    "import matplotlib.pyplot as plt\n",
    "acc = history.history['acc']\n",
    "val_acc = history.history['val_acc']\n",
    "loss = history.history['loss']\n",
    "val_loss = history.history['val_loss']\n",
    "\n",
    "epochs = range(1, len(acc) + 1)\n",
    "\n",
    "plt.plot(epochs, acc, 'bo', label='Training acc')\n",
    "plt.plot(epochs, val_acc, 'b', label='Validation acc')\n",
    "plt.title('Training and validation accuracy')\n",
    "plt.legend()\n",
    "\n",
    "plt.figure()\n",
    "\n",
    "plt.plot(epochs, loss, 'bo', label='Training loss')\n",
    "plt.plot(epochs, val_loss, 'b', label='Validation loss')\n",
    "plt.title('Training and validation loss')\n",
    "plt.legend()\n",
    "\n",
    "plt.show()\n"
   ]
  },
  {
   "cell_type": "code",
   "execution_count": 16,
   "metadata": {},
   "outputs": [],
   "source": [
    "from keras import models\n",
    "from keras import layers\n",
    "model = models.Sequential()\n",
    "model.add(conv_base)\n",
    "model.add(layers.Flatten())\n",
    "model.add(layers.Dense(256, activation='relu'))\n",
    "model.add(layers.Dense(1, activation='sigmoid'))"
   ]
  },
  {
   "cell_type": "markdown",
   "metadata": {},
   "source": [
    "# Training the model end to end with a frozen convolutional base"
   ]
  },
  {
   "cell_type": "code",
   "execution_count": 26,
   "metadata": {},
   "outputs": [
    {
     "name": "stdout",
     "output_type": "stream",
     "text": [
      "Found 2000 images belonging to 2 classes.\n",
      "Found 1000 images belonging to 2 classes.\n"
     ]
    }
   ],
   "source": [
    "from keras.preprocessing.image import ImageDataGenerator\n",
    "from keras import optimizers\n",
    "train_datagen = ImageDataGenerator(\n",
    "                    rescale=1./255,\n",
    "                    rotation_range=40,\n",
    "                    width_shift_range=0.2,\n",
    "                    height_shift_range=0.2,\n",
    "                    shear_range=0.2,\n",
    "                    zoom_range=0.2,\n",
    "                    horizontal_flip=True,\n",
    "                    fill_mode='nearest')\n",
    "test_datagen = ImageDataGenerator(rescale=1./255)\n",
    "train_generator = train_datagen.flow_from_directory(\n",
    "                    train_dir,\n",
    "                    target_size=(150, 150),\n",
    "                    batch_size=20,\n",
    "                    class_mode='binary')\n",
    "validation_generator = test_datagen.flow_from_directory(\n",
    "                    validation_dir,\n",
    "                    target_size=(150, 150),\n",
    "                    batch_size=20,\n",
    "                    class_mode='binary')\n",
    "model.compile(loss='binary_crossentropy',\n",
    "                    optimizer=optimizers.RMSprop(lr=2e-5),\n",
    "                    metrics=['acc'])\n",
    "\n",
    "\n",
    "history = model.fit_generator(\n",
    "                    train_generator,\n",
    "                    steps_per_epoch=100,\n",
    "                    epochs=30,\n",
    "                    validation_data=validation_generator,\n",
    "                    validation_steps=50)     \n",
    "\n",
    "\n",
    "\n"
   ]
  },
  {
   "cell_type": "markdown",
   "metadata": {},
   "source": [
    "# Freezing all layers up to a specific one"
   ]
  },
  {
   "cell_type": "code",
   "execution_count": 27,
   "metadata": {},
   "outputs": [],
   "source": [
    "conv_base.trainable = True\n",
    "set_trainable = False\n",
    "for layer in conv_base.layers:\n",
    "    if layer.name == 'block5_conv1':\n",
    "        set_trainable = True\n",
    "    if set_trainable:\n",
    "        layer.trainable = True\n",
    "    else:\n",
    "        layer.trainable = False"
   ]
  },
  {
   "cell_type": "code",
   "execution_count": null,
   "metadata": {},
   "outputs": [
    {
     "name": "stdout",
     "output_type": "stream",
     "text": [
      "Epoch 1/10\n",
      " 9/25 [=========>....................] - ETA: 22s - loss: 0.2091 - acc: 0.9140"
     ]
    }
   ],
   "source": [
    "model.compile(loss='binary_crossentropy',\n",
    "                optimizer=optimizers.RMSprop(lr=1e-5),\n",
    "                metrics=['acc'])\n",
    "history = model.fit_generator(\n",
    "            train_generator,\n",
    "            steps_per_epoch=25,\n",
    "            epochs=10,\n",
    "            validation_data=validation_generator,\n",
    "            validation_steps=50)"
   ]
  },
  {
   "cell_type": "code",
   "execution_count": null,
   "metadata": {},
   "outputs": [],
   "source": []
  }
 ],
 "metadata": {
  "kernelspec": {
   "display_name": "Python 3",
   "language": "python",
   "name": "python3"
  },
  "language_info": {
   "codemirror_mode": {
    "name": "ipython",
    "version": 3
   },
   "file_extension": ".py",
   "mimetype": "text/x-python",
   "name": "python",
   "nbconvert_exporter": "python",
   "pygments_lexer": "ipython3",
   "version": "3.8.5"
  }
 },
 "nbformat": 4,
 "nbformat_minor": 4
}
