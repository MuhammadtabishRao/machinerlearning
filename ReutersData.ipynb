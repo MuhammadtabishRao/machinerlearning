{
  "nbformat": 4,
  "nbformat_minor": 0,
  "metadata": {
    "colab": {
      "name": "ReutersData.ipynb",
      "provenance": [],
      "collapsed_sections": [],
      "authorship_tag": "ABX9TyMuuSfvgQvuY1ziRlW7MAA8",
      "include_colab_link": true
    },
    "kernelspec": {
      "name": "python3",
      "display_name": "Python 3"
    },
    "language_info": {
      "name": "python"
    }
  },
  "cells": [
    {
      "cell_type": "markdown",
      "metadata": {
        "id": "view-in-github",
        "colab_type": "text"
      },
      "source": [
        "<a href=\"https://colab.research.google.com/github/MuhammadtabishRao/machinerlearning/blob/main/ReutersData.ipynb\" target=\"_parent\"><img src=\"https://colab.research.google.com/assets/colab-badge.svg\" alt=\"Open In Colab\"/></a>"
      ]
    },
    {
      "cell_type": "markdown",
      "metadata": {
        "id": "pXTreIolcSyj"
      },
      "source": [
        "Reuters dataset, a set of short newswires and their topics, published\n",
        "by Reuters in 1986. It’s a simple, widely used toy dataset for text classification. There\n",
        "are 46 different topics; some topics are more represented than others, but each topic\n",
        "has at least 10 examples in the training set"
      ]
    },
    {
      "cell_type": "code",
      "metadata": {
        "colab": {
          "base_uri": "https://localhost:8080/"
        },
        "id": "UYpzYM6dcPah",
        "outputId": "538503e9-dbe9-4fcf-da38-2ca44d71968e"
      },
      "source": [
        "from keras.datasets import reuters\n",
        "(train_data, train_labels), (test_data, test_labels) = reuters.load_data(\n",
        "num_words=10000)"
      ],
      "execution_count": null,
      "outputs": [
        {
          "output_type": "stream",
          "text": [
            "Downloading data from https://storage.googleapis.com/tensorflow/tf-keras-datasets/reuters.npz\n",
            "2113536/2110848 [==============================] - 0s 0us/step\n",
            "2121728/2110848 [==============================] - 0s 0us/step\n"
          ],
          "name": "stdout"
        },
        {
          "output_type": "stream",
          "text": [
            "/usr/local/lib/python3.7/dist-packages/keras/datasets/reuters.py:143: VisibleDeprecationWarning: Creating an ndarray from ragged nested sequences (which is a list-or-tuple of lists-or-tuples-or ndarrays with different lengths or shapes) is deprecated. If you meant to do this, you must specify 'dtype=object' when creating the ndarray\n",
            "  x_train, y_train = np.array(xs[:idx]), np.array(labels[:idx])\n",
            "/usr/local/lib/python3.7/dist-packages/keras/datasets/reuters.py:144: VisibleDeprecationWarning: Creating an ndarray from ragged nested sequences (which is a list-or-tuple of lists-or-tuples-or ndarrays with different lengths or shapes) is deprecated. If you meant to do this, you must specify 'dtype=object' when creating the ndarray\n",
            "  x_test, y_test = np.array(xs[idx:]), np.array(labels[idx:])\n"
          ],
          "name": "stderr"
        }
      ]
    },
    {
      "cell_type": "code",
      "metadata": {
        "colab": {
          "base_uri": "https://localhost:8080/"
        },
        "id": "KuVD8oMicREU",
        "outputId": "98b64f15-aebf-4993-9857-adfce2e461d7"
      },
      "source": [
        "len(train_data)"
      ],
      "execution_count": null,
      "outputs": [
        {
          "output_type": "execute_result",
          "data": {
            "text/plain": [
              "8982"
            ]
          },
          "metadata": {
            "tags": []
          },
          "execution_count": 2
        }
      ]
    },
    {
      "cell_type": "code",
      "metadata": {
        "colab": {
          "base_uri": "https://localhost:8080/"
        },
        "id": "5GPDGEbWceb6",
        "outputId": "80b3c669-8089-4533-9e60-cc8ea5566222"
      },
      "source": [
        "len(test_data)"
      ],
      "execution_count": null,
      "outputs": [
        {
          "output_type": "execute_result",
          "data": {
            "text/plain": [
              "2246"
            ]
          },
          "metadata": {
            "tags": []
          },
          "execution_count": 3
        }
      ]
    },
    {
      "cell_type": "code",
      "metadata": {
        "id": "CtKYoEIQcgdC",
        "colab": {
          "base_uri": "https://localhost:8080/"
        },
        "outputId": "22f38599-29c0-4b26-b7bb-ac18c0a95688"
      },
      "source": [
        "train_data[10]"
      ],
      "execution_count": null,
      "outputs": [
        {
          "output_type": "execute_result",
          "data": {
            "text/plain": [
              "[1,\n",
              " 245,\n",
              " 273,\n",
              " 207,\n",
              " 156,\n",
              " 53,\n",
              " 74,\n",
              " 160,\n",
              " 26,\n",
              " 14,\n",
              " 46,\n",
              " 296,\n",
              " 26,\n",
              " 39,\n",
              " 74,\n",
              " 2979,\n",
              " 3554,\n",
              " 14,\n",
              " 46,\n",
              " 4689,\n",
              " 4329,\n",
              " 86,\n",
              " 61,\n",
              " 3499,\n",
              " 4795,\n",
              " 14,\n",
              " 61,\n",
              " 451,\n",
              " 4329,\n",
              " 17,\n",
              " 12]"
            ]
          },
          "metadata": {
            "tags": []
          },
          "execution_count": 4
        }
      ]
    },
    {
      "cell_type": "code",
      "metadata": {
        "id": "WIcSw4EWcj7y",
        "colab": {
          "base_uri": "https://localhost:8080/"
        },
        "outputId": "d6654480-00f3-44e0-d92c-eb4eece345fe"
      },
      "source": [
        "word_index = reuters.get_word_index()\n",
        "reverse_word_index = dict([(value, key) for (key, value) in word_index.items()])\n",
        "decoded_newswire = ' '.join([reverse_word_index.get(i - 3, '?') for i in\n",
        "train_data[0]])"
      ],
      "execution_count": 5,
      "outputs": [
        {
          "output_type": "stream",
          "text": [
            "Downloading data from https://storage.googleapis.com/tensorflow/tf-keras-datasets/reuters_word_index.json\n",
            "557056/550378 [==============================] - 0s 0us/step\n",
            "565248/550378 [==============================] - 0s 0us/step\n"
          ],
          "name": "stdout"
        }
      ]
    },
    {
      "cell_type": "code",
      "metadata": {
        "colab": {
          "base_uri": "https://localhost:8080/"
        },
        "id": "xv-SXcozc3Tz",
        "outputId": "792f1d88-f466-445e-fade-53f8e6f27d5f"
      },
      "source": [
        " train_labels[10]"
      ],
      "execution_count": 6,
      "outputs": [
        {
          "output_type": "execute_result",
          "data": {
            "text/plain": [
              "3"
            ]
          },
          "metadata": {
            "tags": []
          },
          "execution_count": 6
        }
      ]
    },
    {
      "cell_type": "code",
      "metadata": {
        "id": "xB-6ICF_c6sq"
      },
      "source": [
        "\n",
        "import numpy as np\n",
        "def vectorize_sequences(sequences, dimension=10000):\n",
        "    results = np.zeros((len(sequences), dimension))\n",
        "    for i, sequence in enumerate(sequences):\n",
        "        results[i, sequence] = 1.\n",
        "        return results\n",
        "x_train = vectorize_sequences(train_data)\n",
        "x_test = vectorize_sequences(test_data)\n"
      ],
      "execution_count": 15,
      "outputs": []
    },
    {
      "cell_type": "code",
      "metadata": {
        "id": "x12TB_bPdDZi"
      },
      "source": [
        "def to_one_hot(labels, dimension=46):\n",
        "    results = np.zeros((len(labels), dimension))\n",
        "    for i, label in enumerate(labels):\n",
        "        results[i, label] = 1.\n",
        "        return results\n",
        "one_hot_train_labels = to_one_hot(train_labels)\n",
        "one_hot_test_labels = to_one_hot(test_labels)\n"
      ],
      "execution_count": 21,
      "outputs": []
    },
    {
      "cell_type": "code",
      "metadata": {
        "id": "IaWNh5r8d4sB"
      },
      "source": [
        "from keras.utils.np_utils import to_categorical\n",
        "one_hot_train_labels = to_categorical(train_labels)\n",
        "one_hot_test_labels = to_categorical(test_labels)"
      ],
      "execution_count": 23,
      "outputs": []
    },
    {
      "cell_type": "code",
      "metadata": {
        "id": "k3_ak3ZhdxuB"
      },
      "source": [
        "\n",
        "from keras import models\n",
        "from keras import layers\n",
        "model = models.Sequential()\n",
        "model.add(layers.Dense(64, activation='relu', input_shape=(10000,)))\n",
        "model.add(layers.Dense(64, activation='relu'))\n",
        "model.add(layers.Dense(46, activation='softmax'))\n"
      ],
      "execution_count": 24,
      "outputs": []
    },
    {
      "cell_type": "code",
      "metadata": {
        "id": "fT3ge_nJeMaY"
      },
      "source": [
        "model.compile(optimizer='rmsprop',\n",
        "loss='categorical_crossentropy',\n",
        "metrics=['accuracy'])\n"
      ],
      "execution_count": 25,
      "outputs": []
    },
    {
      "cell_type": "code",
      "metadata": {
        "id": "q-rVT1klePeg"
      },
      "source": [
        "x_val = x_train[:1000]\n",
        "partial_x_train = x_train[1000:]\n",
        "y_val = one_hot_train_labels[:1000]\n",
        "partial_y_train = one_hot_train_labels[1000:]\n"
      ],
      "execution_count": 26,
      "outputs": []
    },
    {
      "cell_type": "code",
      "metadata": {
        "colab": {
          "base_uri": "https://localhost:8080/"
        },
        "id": "wjEOJXzEeVbg",
        "outputId": "65987a41-1149-441b-981d-3803fa207010"
      },
      "source": [
        "history = model.fit(partial_x_train,\n",
        "partial_y_train,\n",
        "epochs=20,\n",
        "batch_size=512,\n",
        "validation_data=(x_val, y_val))"
      ],
      "execution_count": 27,
      "outputs": [
        {
          "output_type": "stream",
          "text": [
            "Epoch 1/20\n",
            "16/16 [==============================] - 15s 80ms/step - loss: 3.8186 - accuracy: 0.0367 - val_loss: 3.7980 - val_accuracy: 0.0440\n",
            "Epoch 2/20\n",
            "16/16 [==============================] - 1s 46ms/step - loss: 3.7925 - accuracy: 0.0580 - val_loss: 3.7771 - val_accuracy: 0.3530\n",
            "Epoch 3/20\n",
            "16/16 [==============================] - 1s 45ms/step - loss: 3.7723 - accuracy: 0.3394 - val_loss: 3.7570 - val_accuracy: 0.3530\n",
            "Epoch 4/20\n",
            "16/16 [==============================] - 1s 45ms/step - loss: 3.7517 - accuracy: 0.3577 - val_loss: 3.7373 - val_accuracy: 0.3530\n",
            "Epoch 5/20\n",
            "16/16 [==============================] - 1s 45ms/step - loss: 3.7324 - accuracy: 0.3536 - val_loss: 3.7177 - val_accuracy: 0.3530\n",
            "Epoch 6/20\n",
            "16/16 [==============================] - 1s 45ms/step - loss: 3.7117 - accuracy: 0.3503 - val_loss: 3.6984 - val_accuracy: 0.3530\n",
            "Epoch 7/20\n",
            "16/16 [==============================] - 1s 44ms/step - loss: 3.6935 - accuracy: 0.3527 - val_loss: 3.6790 - val_accuracy: 0.3530\n",
            "Epoch 8/20\n",
            "16/16 [==============================] - 1s 45ms/step - loss: 3.6737 - accuracy: 0.3591 - val_loss: 3.6599 - val_accuracy: 0.3530\n",
            "Epoch 9/20\n",
            "16/16 [==============================] - 1s 45ms/step - loss: 3.6552 - accuracy: 0.3550 - val_loss: 3.6408 - val_accuracy: 0.3530\n",
            "Epoch 10/20\n",
            "16/16 [==============================] - 1s 44ms/step - loss: 3.6349 - accuracy: 0.3524 - val_loss: 3.6220 - val_accuracy: 0.3530\n",
            "Epoch 11/20\n",
            "16/16 [==============================] - 1s 46ms/step - loss: 3.6182 - accuracy: 0.3455 - val_loss: 3.6033 - val_accuracy: 0.3530\n",
            "Epoch 12/20\n",
            "16/16 [==============================] - 1s 47ms/step - loss: 3.5986 - accuracy: 0.3498 - val_loss: 3.5847 - val_accuracy: 0.3530\n",
            "Epoch 13/20\n",
            "16/16 [==============================] - 1s 45ms/step - loss: 3.5776 - accuracy: 0.3521 - val_loss: 3.5663 - val_accuracy: 0.3530\n",
            "Epoch 14/20\n",
            "16/16 [==============================] - 1s 44ms/step - loss: 3.5627 - accuracy: 0.3471 - val_loss: 3.5480 - val_accuracy: 0.3530\n",
            "Epoch 15/20\n",
            "16/16 [==============================] - 1s 45ms/step - loss: 3.5421 - accuracy: 0.3528 - val_loss: 3.5298 - val_accuracy: 0.3530\n",
            "Epoch 16/20\n",
            "16/16 [==============================] - 1s 45ms/step - loss: 3.5233 - accuracy: 0.3606 - val_loss: 3.5119 - val_accuracy: 0.3530\n",
            "Epoch 17/20\n",
            "16/16 [==============================] - 1s 44ms/step - loss: 3.5092 - accuracy: 0.3464 - val_loss: 3.4941 - val_accuracy: 0.3530\n",
            "Epoch 18/20\n",
            "16/16 [==============================] - 1s 45ms/step - loss: 3.4886 - accuracy: 0.3569 - val_loss: 3.4765 - val_accuracy: 0.3530\n",
            "Epoch 19/20\n",
            "16/16 [==============================] - 1s 46ms/step - loss: 3.4695 - accuracy: 0.3536 - val_loss: 3.4590 - val_accuracy: 0.3530\n",
            "Epoch 20/20\n",
            "16/16 [==============================] - 1s 44ms/step - loss: 3.4511 - accuracy: 0.3491 - val_loss: 3.4416 - val_accuracy: 0.3530\n"
          ],
          "name": "stdout"
        }
      ]
    },
    {
      "cell_type": "code",
      "metadata": {
        "colab": {
          "base_uri": "https://localhost:8080/",
          "height": 295
        },
        "id": "3d1ztjjZeYHo",
        "outputId": "907443db-72ba-4c54-8712-7516fdba0ed2"
      },
      "source": [
        "import matplotlib.pyplot as plt\n",
        "loss = history.history['loss']\n",
        "val_loss = history.history['val_loss']\n",
        "epochs = range(1, len(loss) + 1)\n",
        "plt.plot(epochs, loss, 'bo', label='Training loss')\n",
        "plt.plot(epochs, val_loss, 'b', label='Validation loss')\n",
        "plt.title('Training and validation loss')\n",
        "plt.xlabel('Epochs')\n",
        "plt.ylabel('Loss')\n",
        "plt.legend()\n",
        "plt.show()"
      ],
      "execution_count": 28,
      "outputs": [
        {
          "output_type": "display_data",
          "data": {
            "image/png": "[encoded data removed]",
            "text/plain": [
              "<Figure size 432x288 with 1 Axes>"
            ]
          },
          "metadata": {
            "tags": [],
            "needs_background": "light"
          }
        }
      ]
    },
    {
      "cell_type": "code",
      "metadata": {
        "colab": {
          "base_uri": "https://localhost:8080/",
          "height": 295
        },
        "id": "6fxaf_oseoYS",
        "outputId": "e64c0dc1-0bad-4632-c878-cc2818a5ac21"
      },
      "source": [
        "acc = history.history['accuracy']\n",
        "val_acc = history.history['val_accuracy']\n",
        "plt.plot(epochs, acc, 'bo', label='Training acc')\n",
        "plt.plot(epochs, val_acc, 'b', label='Validation acc')\n",
        "plt.title('Training and validation accuracy')\n",
        "plt.xlabel('Epochs')\n",
        "plt.ylabel('Loss')\n",
        "plt.legend()\n",
        "plt.show()"
      ],
      "execution_count": 29,
      "outputs": [
        {
          "output_type": "display_data",
          "data": {
            "image/png": "[encoded data removed]",
            "text/plain": [
              "<Figure size 432x288 with 1 Axes>"
            ]
          },
          "metadata": {
            "tags": [],
            "needs_background": "light"
          }
        }
      ]
    },
    {
      "cell_type": "code",
      "metadata": {
        "colab": {
          "base_uri": "https://localhost:8080/"
        },
        "id": "a2vSJfwwesiy",
        "outputId": "09476c54-a57c-407f-8c11-9f154750d19d"
      },
      "source": [
        "model = models.Sequential()\n",
        "model.add(layers.Dense(64, activation='relu', input_shape=(10000,)))\n",
        "model.add(layers.Dense(64, activation='relu'))\n",
        "model.add(layers.Dense(46, activation='softmax'))\n",
        "model.compile(optimizer='rmsprop',\n",
        "loss='categorical_crossentropy',\n",
        "metrics=['accuracy'])\n",
        "model.fit(partial_x_train,\n",
        "partial_y_train,\n",
        "epochs=9,\n",
        "batch_size=512,\n",
        "validation_data=(x_val, y_val))\n",
        "results = model.evaluate(x_test, one_hot_test_labels)"
      ],
      "execution_count": 30,
      "outputs": [
        {
          "output_type": "stream",
          "text": [
            "Epoch 1/9\n",
            "16/16 [==============================] - 2s 60ms/step - loss: 3.8185 - accuracy: 0.1369 - val_loss: 3.7979 - val_accuracy: 0.3530\n",
            "Epoch 2/9\n",
            "16/16 [==============================] - 1s 44ms/step - loss: 3.7926 - accuracy: 0.3503 - val_loss: 3.7770 - val_accuracy: 0.3530\n",
            "Epoch 3/9\n",
            "16/16 [==============================] - 1s 43ms/step - loss: 3.7716 - accuracy: 0.3536 - val_loss: 3.7570 - val_accuracy: 0.3530\n",
            "Epoch 4/9\n",
            "16/16 [==============================] - 1s 43ms/step - loss: 3.7524 - accuracy: 0.3481 - val_loss: 3.7373 - val_accuracy: 0.3530\n",
            "Epoch 5/9\n",
            "16/16 [==============================] - 1s 43ms/step - loss: 3.7318 - accuracy: 0.3464 - val_loss: 3.7177 - val_accuracy: 0.3530\n",
            "Epoch 6/9\n",
            "16/16 [==============================] - 1s 43ms/step - loss: 3.7123 - accuracy: 0.3563 - val_loss: 3.6983 - val_accuracy: 0.3530\n",
            "Epoch 7/9\n",
            "16/16 [==============================] - 1s 43ms/step - loss: 3.6920 - accuracy: 0.3504 - val_loss: 3.6790 - val_accuracy: 0.3530\n",
            "Epoch 8/9\n",
            "16/16 [==============================] - 1s 43ms/step - loss: 3.6765 - accuracy: 0.3383 - val_loss: 3.6598 - val_accuracy: 0.3530\n",
            "Epoch 9/9\n",
            "16/16 [==============================] - 1s 43ms/step - loss: 3.6544 - accuracy: 0.3486 - val_loss: 3.6407 - val_accuracy: 0.3530\n",
            "71/71 [==============================] - 0s 3ms/step - loss: 3.6430 - accuracy: 0.3615\n"
          ],
          "name": "stdout"
        }
      ]
    },
    {
      "cell_type": "code",
      "metadata": {
        "colab": {
          "base_uri": "https://localhost:8080/"
        },
        "id": "NPNdn-37ezJg",
        "outputId": "088a586e-502a-4b91-d791-a6c7af47f724"
      },
      "source": [
        "results"
      ],
      "execution_count": 31,
      "outputs": [
        {
          "output_type": "execute_result",
          "data": {
            "text/plain": [
              "[3.643038034439087, 0.3615316152572632]"
            ]
          },
          "metadata": {
            "tags": []
          },
          "execution_count": 31
        }
      ]
    },
    {
      "cell_type": "code",
      "metadata": {
        "colab": {
          "base_uri": "https://localhost:8080/"
        },
        "id": "IViV3kj-e6VI",
        "outputId": "0b8086e5-f91a-4a37-90f8-769195768951"
      },
      "source": [
        "import copy\n",
        "test_labels_copy = copy.copy(test_labels)\n",
        "np.random.shuffle(test_labels_copy)\n",
        "hits_array = np.array(test_labels) == np.array(test_labels_copy)\n",
        "float(np.sum(hits_array)) / len(test_labels)"
      ],
      "execution_count": 32,
      "outputs": [
        {
          "output_type": "execute_result",
          "data": {
            "text/plain": [
              "0.18521816562778273"
            ]
          },
          "metadata": {
            "tags": []
          },
          "execution_count": 32
        }
      ]
    },
    {
      "cell_type": "code",
      "metadata": {
        "colab": {
          "base_uri": "https://localhost:8080/"
        },
        "id": "0y1HP39Ze9Xg",
        "outputId": "cbf17e43-fe5d-4df5-fe3c-78cb7723cc15"
      },
      "source": [
        "\n",
        "predictions = model.predict(x_test)\n",
        "predictions[0].shape"
      ],
      "execution_count": 34,
      "outputs": [
        {
          "output_type": "execute_result",
          "data": {
            "text/plain": [
              "(46,)"
            ]
          },
          "metadata": {
            "tags": []
          },
          "execution_count": 34
        }
      ]
    },
    {
      "cell_type": "code",
      "metadata": {
        "colab": {
          "base_uri": "https://localhost:8080/"
        },
        "id": "GCEQW2pZe_cv",
        "outputId": "88c1d807-4293-4ecb-b245-f89e2e9910a4"
      },
      "source": [
        "predictions\n"
      ],
      "execution_count": 35,
      "outputs": [
        {
          "output_type": "execute_result",
          "data": {
            "text/plain": [
              "array([[0.0213358 , 0.02707909, 0.02082258, ..., 0.01924085, 0.02038153,\n",
              "        0.01986727],\n",
              "       [0.02063186, 0.02759864, 0.02072493, ..., 0.02060211, 0.02058989,\n",
              "        0.02058933],\n",
              "       [0.02063186, 0.02759864, 0.02072493, ..., 0.02060211, 0.02058989,\n",
              "        0.02058933],\n",
              "       ...,\n",
              "       [0.02063186, 0.02759864, 0.02072493, ..., 0.02060211, 0.02058989,\n",
              "        0.02058933],\n",
              "       [0.02063186, 0.02759864, 0.02072493, ..., 0.02060211, 0.02058989,\n",
              "        0.02058933],\n",
              "       [0.02063186, 0.02759864, 0.02072493, ..., 0.02060211, 0.02058989,\n",
              "        0.02058933]], dtype=float32)"
            ]
          },
          "metadata": {
            "tags": []
          },
          "execution_count": 35
        }
      ]
    },
    {
      "cell_type": "code",
      "metadata": {
        "id": "2ct69X5KfDzH"
      },
      "source": [
        ""
      ],
      "execution_count": null,
      "outputs": []
    }
  ]
}